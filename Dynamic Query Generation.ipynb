{
 "cells": [
  {
   "cell_type": "code",
   "execution_count": 0,
   "metadata": {
    "application/vnd.databricks.v1+cell": {
     "cellMetadata": {
      "byteLimit": 2048000,
      "implicitDf": true,
      "rowLimit": 10000
     },
     "inputWidgets": {},
     "nuid": "a14e7bf8-29a1-44e8-97ec-34e88cd1beb8",
     "showTitle": false,
     "tableResultSettingsMap": {},
     "title": ""
    }
   },
   "outputs": [],
   "source": [
    "%sql\n",
    "use catalog dkushari_uc;"
   ]
  },
  {
   "cell_type": "markdown",
   "metadata": {
    "application/vnd.databricks.v1+cell": {
     "cellMetadata": {
      "byteLimit": 2048000,
      "rowLimit": 10000
     },
     "inputWidgets": {},
     "nuid": "e9698ba0-429c-470d-b0b2-7328b40500b5",
     "showTitle": false,
     "tableResultSettingsMap": {},
     "title": ""
    }
   },
   "source": [
    "### Encrypter Function"
   ]
  },
  {
   "cell_type": "code",
   "execution_count": 0,
   "metadata": {
    "application/vnd.databricks.v1+cell": {
     "cellMetadata": {
      "byteLimit": 2048000,
      "implicitDf": true,
      "rowLimit": 10000
     },
     "inputWidgets": {},
     "nuid": "2dbbae83-82ee-4970-bed9-d82d8559c101",
     "showTitle": false,
     "tableResultSettingsMap": {},
     "title": ""
    }
   },
   "outputs": [],
   "source": [
    "%sql\n",
    "CREATE OR REPLACE FUNCTION pepsi_demo.encrypt(query_text STRING) RETURNS STRING\n",
    "COMMENT 'Registering Encrypt Function'\n",
    "RETURN SELECT base64(aes_encrypt(query_text, secret('dkushari-scope', 'key'),'ECB')) AS ColumnName;\n"
   ]
  },
  {
   "cell_type": "markdown",
   "metadata": {
    "application/vnd.databricks.v1+cell": {
     "cellMetadata": {
      "byteLimit": 2048000,
      "rowLimit": 10000
     },
     "inputWidgets": {},
     "nuid": "698fbd91-b8e2-488c-a288-c2b8d1cd35ca",
     "showTitle": false,
     "tableResultSettingsMap": {},
     "title": ""
    }
   },
   "source": [
    "### Decrypter Function"
   ]
  },
  {
   "cell_type": "code",
   "execution_count": 0,
   "metadata": {
    "application/vnd.databricks.v1+cell": {
     "cellMetadata": {
      "byteLimit": 2048000,
      "implicitDf": true,
      "rowLimit": 10000
     },
     "inputWidgets": {},
     "nuid": "4277fe46-126a-4d4b-965e-e57ba78df2c2",
     "showTitle": false,
     "tableResultSettingsMap": {},
     "title": ""
    }
   },
   "outputs": [],
   "source": [
    "%sql\n",
    "CREATE OR REPLACE FUNCTION pepsi_demo.decrypt(enc_data STRING) RETURNS STRING\n",
    "COMMENT 'Registering Decrypt Function'\n",
    "RETURN SELECT aes_decrypt(unbase64(enc_data), secret('dkushari-scope', 'key'),'ECB') AS ColumnName;"
   ]
  },
  {
   "cell_type": "markdown",
   "metadata": {
    "application/vnd.databricks.v1+cell": {
     "cellMetadata": {
      "byteLimit": 2048000,
      "rowLimit": 10000
     },
     "inputWidgets": {},
     "nuid": "3ec411a0-1828-433e-b57a-d9f8e2061121",
     "showTitle": false,
     "tableResultSettingsMap": {},
     "title": ""
    }
   },
   "source": [
    "### Returns Dynamic SQL statement based on predicate and Delta table version"
   ]
  },
  {
   "cell_type": "code",
   "execution_count": 0,
   "metadata": {
    "application/vnd.databricks.v1+cell": {
     "cellMetadata": {
      "byteLimit": 2048000,
      "implicitDf": true,
      "rowLimit": 10000
     },
     "inputWidgets": {},
     "nuid": "95fa21d6-cf72-4b39-83b1-6620e715f144",
     "showTitle": false,
     "tableResultSettingsMap": {},
     "title": ""
    }
   },
   "outputs": [],
   "source": [
    "%sql\n",
    "CREATE OR REPLACE FUNCTION pepsi_demo.sql_query_fn(catalog_name string, schema_name string, table_name string, predicate string, version_number int)\n",
    "RETURNS STRING\n",
    "LANGUAGE PYTHON\n",
    "AS\n",
    "$$\n",
    "if version_number is not None:\n",
    "  table_ver = f\"version as of {version_number}\"\n",
    "  sql_query_text = f\"select * from {catalog_name}.{schema_name}.{table_name} {table_ver} where {predicate}\"\n",
    "  print(sql_query_text)\n",
    "else:\n",
    "  sql_query_text = f\"select * from {catalog_name}.{schema_name}.{table_name} where {predicate}\"\n",
    "\n",
    "return sql_query_text\n",
    "$$;\n"
   ]
  },
  {
   "cell_type": "markdown",
   "metadata": {
    "application/vnd.databricks.v1+cell": {
     "cellMetadata": {
      "byteLimit": 2048000,
      "rowLimit": 10000
     },
     "inputWidgets": {},
     "nuid": "32d5672e-cb68-40ef-b9c8-1f18033339d5",
     "showTitle": false,
     "tableResultSettingsMap": {},
     "title": ""
    }
   },
   "source": [
    "### Returns encrypted SQL Statement"
   ]
  },
  {
   "cell_type": "code",
   "execution_count": 0,
   "metadata": {
    "application/vnd.databricks.v1+cell": {
     "cellMetadata": {
      "byteLimit": 2048000,
      "implicitDf": true,
      "rowLimit": 10000
     },
     "inputWidgets": {},
     "nuid": "279f8780-3275-4b5a-a848-29a83ee96078",
     "showTitle": false,
     "tableResultSettingsMap": {},
     "title": ""
    }
   },
   "outputs": [],
   "source": [
    "%sql\n",
    "CREATE OR REPLACE FUNCTION pepsi_demo.sql_query_generate(catalog_name string, schema_name string, table_name string, predicate string, version_number int)\n",
    "RETURNS STRING\n",
    "LANGUAGE SQL\n",
    "RETURN SELECT pepsi_demo.encrypt(pepsi_demo.sql_query_fn(catalog_name, schema_name, table_name, predicate, version_number));"
   ]
  },
  {
   "cell_type": "markdown",
   "metadata": {
    "application/vnd.databricks.v1+cell": {
     "cellMetadata": {
      "byteLimit": 2048000,
      "rowLimit": 10000
     },
     "inputWidgets": {},
     "nuid": "697ed014-2c79-4555-9c45-ea23dceaa88c",
     "showTitle": false,
     "tableResultSettingsMap": {},
     "title": ""
    }
   },
   "source": [
    "### Execute the dynamic SQL Statement"
   ]
  },
  {
   "cell_type": "code",
   "execution_count": 0,
   "metadata": {
    "application/vnd.databricks.v1+cell": {
     "cellMetadata": {
      "byteLimit": 2048000,
      "implicitDf": true,
      "rowLimit": 10000
     },
     "inputWidgets": {},
     "nuid": "b0d50bf1-f0e1-4046-969c-8f71da0a641f",
     "showTitle": false,
     "tableResultSettingsMap": {},
     "title": ""
    }
   },
   "outputs": [
    {
     "output_type": "display_data",
     "data": {
      "text/html": [
       "<style scoped>\n",
       "  .table-result-container {\n",
       "    max-height: 300px;\n",
       "    overflow: auto;\n",
       "  }\n",
       "  table, th, td {\n",
       "    border: 1px solid black;\n",
       "    border-collapse: collapse;\n",
       "  }\n",
       "  th, td {\n",
       "    padding: 5px;\n",
       "  }\n",
       "  th {\n",
       "    text-align: left;\n",
       "  }\n",
       "</style><div class='table-result-container'><table class='table-result'><thead style='background-color: white'><tr><th>record_id</th><th>first_name</th><th>last_name</th><th>date_of_birth</th><th>age</th><th>sex</th><th>address</th><th>ssn</th><th>region</th></tr></thead><tbody><tr><td>4</td><td>Doe</td><td>Johnson</td><td>1985-01-01</td><td>38</td><td>M</td><td>123 Main St</td><td>333-33-3333</td><td>West</td></tr><tr><td>14</td><td>Doe</td><td>Brown</td><td>1990-01-01</td><td>33</td><td>F</td><td>456 Elm St</td><td>444-44-4444</td><td>West</td></tr><tr><td>35</td><td>Doe</td><td>Smith</td><td>1985-01-01</td><td>38</td><td>F</td><td>123 Main St</td><td>222-22-2222</td><td>West</td></tr><tr><td>38</td><td>John</td><td>Smith</td><td>1980-01-01</td><td>43</td><td>F</td><td>456 Elm St</td><td>333-33-3333</td><td>West</td></tr><tr><td>39</td><td>Doe</td><td>Smith</td><td>1980-01-01</td><td>43</td><td>M</td><td>123 Main St</td><td>111-11-1111</td><td>West</td></tr><tr><td>40</td><td>Alice</td><td>Johnson</td><td>1990-01-01</td><td>33</td><td>F</td><td>456 Elm St</td><td>333-33-3333</td><td>West</td></tr><tr><td>4</td><td>Doe</td><td>Johnson</td><td>1985-01-01</td><td>38</td><td>M</td><td>123 Main St</td><td>333-33-3333</td><td>West</td></tr><tr><td>14</td><td>Doe</td><td>Brown</td><td>1990-01-01</td><td>33</td><td>F</td><td>456 Elm St</td><td>444-44-4444</td><td>West</td></tr><tr><td>35</td><td>Doe</td><td>Smith</td><td>1985-01-01</td><td>38</td><td>F</td><td>123 Main St</td><td>222-22-2222</td><td>West</td></tr><tr><td>38</td><td>John</td><td>Smith</td><td>1980-01-01</td><td>43</td><td>F</td><td>456 Elm St</td><td>333-33-3333</td><td>West</td></tr><tr><td>39</td><td>Doe</td><td>Smith</td><td>1980-01-01</td><td>43</td><td>M</td><td>123 Main St</td><td>111-11-1111</td><td>West</td></tr><tr><td>40</td><td>Alice</td><td>Johnson</td><td>1990-01-01</td><td>33</td><td>F</td><td>456 Elm St</td><td>333-33-3333</td><td>West</td></tr></tbody></table></div>"
      ]
     },
     "metadata": {
      "application/vnd.databricks.v1+output": {
       "addedWidgets": {},
       "aggData": [],
       "aggError": "",
       "aggOverflow": false,
       "aggSchema": [],
       "aggSeriesLimitReached": false,
       "aggType": "",
       "arguments": {},
       "columnCustomDisplayInfos": {},
       "data": [
        [
         4,
         "Doe",
         "Johnson",
         "1985-01-01",
         38,
         "M",
         "123 Main St",
         "333-33-3333",
         "West"
        ],
        [
         14,
         "Doe",
         "Brown",
         "1990-01-01",
         33,
         "F",
         "456 Elm St",
         "444-44-4444",
         "West"
        ],
        [
         35,
         "Doe",
         "Smith",
         "1985-01-01",
         38,
         "F",
         "123 Main St",
         "222-22-2222",
         "West"
        ],
        [
         38,
         "John",
         "Smith",
         "1980-01-01",
         43,
         "F",
         "456 Elm St",
         "333-33-3333",
         "West"
        ],
        [
         39,
         "Doe",
         "Smith",
         "1980-01-01",
         43,
         "M",
         "123 Main St",
         "111-11-1111",
         "West"
        ],
        [
         40,
         "Alice",
         "Johnson",
         "1990-01-01",
         33,
         "F",
         "456 Elm St",
         "333-33-3333",
         "West"
        ],
        [
         4,
         "Doe",
         "Johnson",
         "1985-01-01",
         38,
         "M",
         "123 Main St",
         "333-33-3333",
         "West"
        ],
        [
         14,
         "Doe",
         "Brown",
         "1990-01-01",
         33,
         "F",
         "456 Elm St",
         "444-44-4444",
         "West"
        ],
        [
         35,
         "Doe",
         "Smith",
         "1985-01-01",
         38,
         "F",
         "123 Main St",
         "222-22-2222",
         "West"
        ],
        [
         38,
         "John",
         "Smith",
         "1980-01-01",
         43,
         "F",
         "456 Elm St",
         "333-33-3333",
         "West"
        ],
        [
         39,
         "Doe",
         "Smith",
         "1980-01-01",
         43,
         "M",
         "123 Main St",
         "111-11-1111",
         "West"
        ],
        [
         40,
         "Alice",
         "Johnson",
         "1990-01-01",
         33,
         "F",
         "456 Elm St",
         "333-33-3333",
         "West"
        ]
       ],
       "datasetInfos": [
        {
         "name": "_sqldf",
         "schema": {
          "fields": [
           {
            "metadata": {},
            "name": "record_id",
            "nullable": true,
            "type": "long"
           },
           {
            "metadata": {},
            "name": "first_name",
            "nullable": true,
            "type": "string"
           },
           {
            "metadata": {},
            "name": "last_name",
            "nullable": true,
            "type": "string"
           },
           {
            "metadata": {},
            "name": "date_of_birth",
            "nullable": true,
            "type": "string"
           },
           {
            "metadata": {},
            "name": "age",
            "nullable": true,
            "type": "integer"
           },
           {
            "metadata": {},
            "name": "sex",
            "nullable": true,
            "type": "string"
           },
           {
            "metadata": {},
            "name": "address",
            "nullable": true,
            "type": "string"
           },
           {
            "metadata": {},
            "name": "ssn",
            "nullable": true,
            "type": "string"
           },
           {
            "metadata": {},
            "name": "region",
            "nullable": true,
            "type": "string"
           }
          ],
          "type": "struct"
         },
         "tableIdentifier": null,
         "typeStr": "pyspark.sql.connect.dataframe.DataFrame"
        }
       ],
       "dbfsResultPath": null,
       "isJsonSchema": true,
       "metadata": {
        "createTempViewForImplicitDf": true,
        "dataframeName": "_sqldf",
        "executionCount": 6
       },
       "overflow": false,
       "plotOptions": {
        "customPlotOptions": {},
        "displayType": "table",
        "pivotAggregation": null,
        "pivotColumns": null,
        "xColumns": null,
        "yColumns": null
       },
       "removedWidgets": [],
       "schema": [
        {
         "metadata": "{}",
         "name": "record_id",
         "type": "\"long\""
        },
        {
         "metadata": "{}",
         "name": "first_name",
         "type": "\"string\""
        },
        {
         "metadata": "{}",
         "name": "last_name",
         "type": "\"string\""
        },
        {
         "metadata": "{}",
         "name": "date_of_birth",
         "type": "\"string\""
        },
        {
         "metadata": "{}",
         "name": "age",
         "type": "\"integer\""
        },
        {
         "metadata": "{}",
         "name": "sex",
         "type": "\"string\""
        },
        {
         "metadata": "{}",
         "name": "address",
         "type": "\"string\""
        },
        {
         "metadata": "{}",
         "name": "ssn",
         "type": "\"string\""
        },
        {
         "metadata": "{}",
         "name": "region",
         "type": "\"string\""
        }
       ],
       "type": "table"
      }
     },
     "output_type": "display_data"
    }
   ],
   "source": [
    "%sql\n",
    "DECLARE OR REPLACE CATALOG_NAME STRING ;\n",
    "DECLARE OR REPLACE SCHEMA_NAME STRING ;\n",
    "DECLARE OR REPLACE TABLE_NAME STRING ;\n",
    "DECLARE OR REPLACE VERSION_NUMBER INT DEFAULT 0;  \n",
    "SET VAR VERSION_NUMBER=:VERSION_NUMBER;\n",
    "SET VAR CATALOG_NAME=:CATALOG_NAME;\n",
    "SET VAR SCHEMA_NAME=:SCHEMA_NAME;\n",
    "SET VAR TABLE_NAME=:TABLE_NAME;\n",
    "VALUES(VERSION_NUMBER);\n",
    "DECLARE OR REPLACE PREDICATE STRING DEFAULT NULL ;\n",
    "SET VAR PREDICATE=(select predicate from fgac.predicate_mapping where catalog_name = CATALOG_NAME and schema_name = SCHEMA_NAME and table_name=TABLE_NAME);\n",
    "VALUES (PREDICATE);\n",
    "DECLARE OR REPLACE DYNAMIC_GENERATE_SQL STRING DEFAULT \"SELECT 1\";\n",
    "VALUES (DYNAMIC_GENERATE_SQL);\n",
    "SET VAR DYNAMIC_GENERATE_SQL=(select pepsi_demo.sql_query_generate(CATALOG_NAME, SCHEMA_NAME, TABLE_NAME, PREDICATE, VERSION_NUMBER));\n",
    "VALUES (DYNAMIC_GENERATE_SQL);\n",
    "DECLARE OR REPLACE DECRYPT_SQL STRING DEFAULT \"SELECT 1\";\n",
    "SET VAR DECRYPT_SQL = (SELECT pepsi_demo.decrypt(DYNAMIC_GENERATE_SQL));\n",
    "values (DECRYPT_SQL);\n",
    "EXECUTE IMMEDIATE DECRYPT_SQL;"
   ]
  },
  {
   "cell_type": "markdown",
   "metadata": {
    "application/vnd.databricks.v1+cell": {
     "cellMetadata": {
      "byteLimit": 2048000,
      "rowLimit": 10000
     },
     "inputWidgets": {},
     "nuid": "0602bc10-95c2-420c-ab73-efdc6034ad4e",
     "showTitle": false,
     "tableResultSettingsMap": {},
     "title": ""
    }
   },
   "source": [
    "### Use the dataframe downstream"
   ]
  },
  {
   "cell_type": "code",
   "execution_count": 0,
   "metadata": {
    "application/vnd.databricks.v1+cell": {
     "cellMetadata": {
      "byteLimit": 2048000,
      "rowLimit": 10000
     },
     "inputWidgets": {},
     "nuid": "da6093c1-285e-4d20-b9f7-5d34d40ff4f1",
     "showTitle": false,
     "tableResultSettingsMap": {},
     "title": ""
    }
   },
   "outputs": [],
   "source": [
    "_sqldf.createOrReplaceTempView(\"CUST_DATA\")"
   ]
  },
  {
   "cell_type": "code",
   "execution_count": 0,
   "metadata": {
    "application/vnd.databricks.v1+cell": {
     "cellMetadata": {
      "byteLimit": 2048000,
      "rowLimit": 10000
     },
     "inputWidgets": {},
     "nuid": "31392ee7-0f0f-4883-aa94-b54f0842c4e6",
     "showTitle": false,
     "tableResultSettingsMap": {},
     "title": ""
    }
   },
   "outputs": [
    {
     "output_type": "display_data",
     "data": {
      "text/html": [
       "<style scoped>\n",
       "  .table-result-container {\n",
       "    max-height: 300px;\n",
       "    overflow: auto;\n",
       "  }\n",
       "  table, th, td {\n",
       "    border: 1px solid black;\n",
       "    border-collapse: collapse;\n",
       "  }\n",
       "  th, td {\n",
       "    padding: 5px;\n",
       "  }\n",
       "  th {\n",
       "    text-align: left;\n",
       "  }\n",
       "</style><div class='table-result-container'><table class='table-result'><thead style='background-color: white'><tr><th>record_id</th><th>first_name</th><th>last_name</th><th>date_of_birth</th><th>age</th><th>sex</th><th>address</th><th>ssn</th><th>region</th></tr></thead><tbody><tr><td>4</td><td>Doe</td><td>Johnson</td><td>1985-01-01</td><td>38</td><td>M</td><td>123 Main St</td><td>333-33-3333</td><td>West</td></tr><tr><td>14</td><td>Doe</td><td>Brown</td><td>1990-01-01</td><td>33</td><td>F</td><td>456 Elm St</td><td>444-44-4444</td><td>West</td></tr><tr><td>35</td><td>Doe</td><td>Smith</td><td>1985-01-01</td><td>38</td><td>F</td><td>123 Main St</td><td>222-22-2222</td><td>West</td></tr><tr><td>38</td><td>John</td><td>Smith</td><td>1980-01-01</td><td>43</td><td>F</td><td>456 Elm St</td><td>333-33-3333</td><td>West</td></tr><tr><td>39</td><td>Doe</td><td>Smith</td><td>1980-01-01</td><td>43</td><td>M</td><td>123 Main St</td><td>111-11-1111</td><td>West</td></tr><tr><td>40</td><td>Alice</td><td>Johnson</td><td>1990-01-01</td><td>33</td><td>F</td><td>456 Elm St</td><td>333-33-3333</td><td>West</td></tr><tr><td>4</td><td>Doe</td><td>Johnson</td><td>1985-01-01</td><td>38</td><td>M</td><td>123 Main St</td><td>333-33-3333</td><td>West</td></tr><tr><td>14</td><td>Doe</td><td>Brown</td><td>1990-01-01</td><td>33</td><td>F</td><td>456 Elm St</td><td>444-44-4444</td><td>West</td></tr><tr><td>35</td><td>Doe</td><td>Smith</td><td>1985-01-01</td><td>38</td><td>F</td><td>123 Main St</td><td>222-22-2222</td><td>West</td></tr><tr><td>38</td><td>John</td><td>Smith</td><td>1980-01-01</td><td>43</td><td>F</td><td>456 Elm St</td><td>333-33-3333</td><td>West</td></tr><tr><td>39</td><td>Doe</td><td>Smith</td><td>1980-01-01</td><td>43</td><td>M</td><td>123 Main St</td><td>111-11-1111</td><td>West</td></tr><tr><td>40</td><td>Alice</td><td>Johnson</td><td>1990-01-01</td><td>33</td><td>F</td><td>456 Elm St</td><td>333-33-3333</td><td>West</td></tr></tbody></table></div>"
      ]
     },
     "metadata": {
      "application/vnd.databricks.v1+output": {
       "addedWidgets": {},
       "aggData": [],
       "aggError": "",
       "aggOverflow": false,
       "aggSchema": [],
       "aggSeriesLimitReached": false,
       "aggType": "",
       "arguments": {},
       "columnCustomDisplayInfos": {},
       "data": [
        [
         4,
         "Doe",
         "Johnson",
         "1985-01-01",
         38,
         "M",
         "123 Main St",
         "333-33-3333",
         "West"
        ],
        [
         14,
         "Doe",
         "Brown",
         "1990-01-01",
         33,
         "F",
         "456 Elm St",
         "444-44-4444",
         "West"
        ],
        [
         35,
         "Doe",
         "Smith",
         "1985-01-01",
         38,
         "F",
         "123 Main St",
         "222-22-2222",
         "West"
        ],
        [
         38,
         "John",
         "Smith",
         "1980-01-01",
         43,
         "F",
         "456 Elm St",
         "333-33-3333",
         "West"
        ],
        [
         39,
         "Doe",
         "Smith",
         "1980-01-01",
         43,
         "M",
         "123 Main St",
         "111-11-1111",
         "West"
        ],
        [
         40,
         "Alice",
         "Johnson",
         "1990-01-01",
         33,
         "F",
         "456 Elm St",
         "333-33-3333",
         "West"
        ],
        [
         4,
         "Doe",
         "Johnson",
         "1985-01-01",
         38,
         "M",
         "123 Main St",
         "333-33-3333",
         "West"
        ],
        [
         14,
         "Doe",
         "Brown",
         "1990-01-01",
         33,
         "F",
         "456 Elm St",
         "444-44-4444",
         "West"
        ],
        [
         35,
         "Doe",
         "Smith",
         "1985-01-01",
         38,
         "F",
         "123 Main St",
         "222-22-2222",
         "West"
        ],
        [
         38,
         "John",
         "Smith",
         "1980-01-01",
         43,
         "F",
         "456 Elm St",
         "333-33-3333",
         "West"
        ],
        [
         39,
         "Doe",
         "Smith",
         "1980-01-01",
         43,
         "M",
         "123 Main St",
         "111-11-1111",
         "West"
        ],
        [
         40,
         "Alice",
         "Johnson",
         "1990-01-01",
         33,
         "F",
         "456 Elm St",
         "333-33-3333",
         "West"
        ]
       ],
       "datasetInfos": [],
       "dbfsResultPath": null,
       "isJsonSchema": true,
       "metadata": {},
       "overflow": false,
       "plotOptions": {
        "customPlotOptions": {},
        "displayType": "table",
        "pivotAggregation": null,
        "pivotColumns": null,
        "xColumns": null,
        "yColumns": null
       },
       "removedWidgets": [],
       "schema": [
        {
         "metadata": "{}",
         "name": "record_id",
         "type": "\"long\""
        },
        {
         "metadata": "{}",
         "name": "first_name",
         "type": "\"string\""
        },
        {
         "metadata": "{}",
         "name": "last_name",
         "type": "\"string\""
        },
        {
         "metadata": "{}",
         "name": "date_of_birth",
         "type": "\"string\""
        },
        {
         "metadata": "{}",
         "name": "age",
         "type": "\"integer\""
        },
        {
         "metadata": "{}",
         "name": "sex",
         "type": "\"string\""
        },
        {
         "metadata": "{}",
         "name": "address",
         "type": "\"string\""
        },
        {
         "metadata": "{}",
         "name": "ssn",
         "type": "\"string\""
        },
        {
         "metadata": "{}",
         "name": "region",
         "type": "\"string\""
        }
       ],
       "type": "table"
      }
     },
     "output_type": "display_data"
    }
   ],
   "source": [
    "spark.sql(\"select * from CUST_DATA\").display()"
   ]
  }
 ],
 "metadata": {
  "application/vnd.databricks.v1+notebook": {
   "computePreferences": null,
   "dashboards": [],
   "environmentMetadata": null,
   "inputWidgetPreferences": null,
   "language": "python",
   "notebookMetadata": {
    "mostRecentlyExecutedCommandWithImplicitDF": {
     "commandId": 455928964333791,
     "dataframes": [
      "_sqldf"
     ]
    },
    "pythonIndentUnit": 2
   },
   "notebookName": "Dynamic Query Generation",
   "widgets": {
    "CATALOG_NAME": {
     "currentValue": "dkushari_uc",
     "nuid": "92df330e-e164-43bc-a777-f91559c59902",
     "typedWidgetInfo": {
      "autoCreated": false,
      "defaultValue": "dkushari_uc",
      "label": "",
      "name": "CATALOG_NAME",
      "options": {
       "widgetDisplayType": "Text",
       "validationRegex": null
      },
      "parameterDataType": "String"
     },
     "widgetInfo": {
      "widgetType": "text",
      "defaultValue": "dkushari_uc",
      "label": "",
      "name": "CATALOG_NAME",
      "options": {
       "widgetType": "text",
       "autoCreated": false,
       "validationRegex": null
      }
     }
    },
    "SCHEMA_NAME": {
     "currentValue": "fgac",
     "nuid": "023d65d9-489b-4837-86ae-3e75e9a3f75f",
     "typedWidgetInfo": {
      "autoCreated": false,
      "defaultValue": "fgac",
      "label": "",
      "name": "SCHEMA_NAME",
      "options": {
       "widgetDisplayType": "Text",
       "validationRegex": null
      },
      "parameterDataType": "String"
     },
     "widgetInfo": {
      "widgetType": "text",
      "defaultValue": "fgac",
      "label": "",
      "name": "SCHEMA_NAME",
      "options": {
       "widgetType": "text",
       "autoCreated": false,
       "validationRegex": null
      }
     }
    },
    "TABLE_NAME": {
     "currentValue": "customer_pii_data",
     "nuid": "df5c66b1-8ec4-4996-8361-1a95d3994f82",
     "typedWidgetInfo": {
      "autoCreated": false,
      "defaultValue": "customer_pii_data",
      "label": "",
      "name": "TABLE_NAME",
      "options": {
       "widgetDisplayType": "Text",
       "validationRegex": null
      },
      "parameterDataType": "String"
     },
     "widgetInfo": {
      "widgetType": "text",
      "defaultValue": "customer_pii_data",
      "label": "",
      "name": "TABLE_NAME",
      "options": {
       "widgetType": "text",
       "autoCreated": false,
       "validationRegex": null
      }
     }
    },
    "VERSION_NUMBER": {
     "currentValue": "3",
     "nuid": "eba4113a-c669-43ca-ae74-b73290330e53",
     "typedWidgetInfo": {
      "autoCreated": false,
      "defaultValue": "3",
      "label": "",
      "name": "VERSION_NUMBER",
      "options": {
       "widgetDisplayType": "Text",
       "validationRegex": null
      },
      "parameterDataType": "String"
     },
     "widgetInfo": {
      "widgetType": "text",
      "defaultValue": "3",
      "label": "",
      "name": "VERSION_NUMBER",
      "options": {
       "widgetType": "text",
       "autoCreated": false,
       "validationRegex": null
      }
     }
    }
   }
  },
  "language_info": {
   "name": "python"
  }
 },
 "nbformat": 4,
 "nbformat_minor": 0
}